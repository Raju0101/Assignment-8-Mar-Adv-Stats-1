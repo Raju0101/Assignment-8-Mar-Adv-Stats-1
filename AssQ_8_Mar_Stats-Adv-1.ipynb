{
 "cells": [
  {
   "cell_type": "markdown",
   "id": "5fefd7c6-dab3-4afe-956d-cd4be0beaf66",
   "metadata": {},
   "source": [
    "# Assignment 8-Mar Adv Stats-1"
   ]
  },
  {
   "cell_type": "code",
   "execution_count": 1,
   "id": "dccd8784-1978-430c-9e4c-fe09c17bc138",
   "metadata": {},
   "outputs": [],
   "source": [
    "# Q1. What is the Probability density function?"
   ]
  },
  {
   "cell_type": "code",
   "execution_count": null,
   "id": "4edf1faa-fca9-4b8a-b7b9-c02a04e891db",
   "metadata": {},
   "outputs": [],
   "source": [
    "# The Probability Density Function(PDF):- It defines the probability function representing\n",
    "# the density of a continuous random variable lying between a specific range of values.\n",
    "# In other words, the probability density function produces the likelihood \n",
    "# of values of the continuous random variable."
   ]
  },
  {
   "cell_type": "code",
   "execution_count": null,
   "id": "25cff4d1-7f09-4d9c-9b6b-8ba3d99e0c66",
   "metadata": {},
   "outputs": [],
   "source": []
  },
  {
   "cell_type": "code",
   "execution_count": 2,
   "id": "364630d3-a655-4c1e-9ca5-f62aaf46d614",
   "metadata": {},
   "outputs": [],
   "source": [
    "# Q2. What are the types of Probability distribution?"
   ]
  },
  {
   "cell_type": "code",
   "execution_count": null,
   "id": "556b528f-98e2-4fdc-a9c2-2efaf96a869a",
   "metadata": {},
   "outputs": [],
   "source": [
    "# There are two types of probability distributions:\n",
    "# Discrete probability distributions and Continuous probability distributions."
   ]
  },
  {
   "cell_type": "code",
   "execution_count": null,
   "id": "266560e2-69eb-4abc-9ff6-ff0980669a0c",
   "metadata": {},
   "outputs": [],
   "source": []
  },
  {
   "cell_type": "code",
   "execution_count": 3,
   "id": "d470250f-6d91-4c0c-8d4e-22701f5f8ba0",
   "metadata": {},
   "outputs": [],
   "source": [
    "# Q3. Write a Python function to calculate the probability density function of a normal distribution with \n",
    "# given mean and standard deviation at a given point."
   ]
  },
  {
   "cell_type": "code",
   "execution_count": null,
   "id": "fe534845-5fb7-4ace-8ba6-be707e9fbca2",
   "metadata": {},
   "outputs": [],
   "source": [
    " f_X(x) = \\frac{1}{\\sigma \\sqrt{2\\pi}} e^{\\frac{-1}{2}\\big( \\frac{x-\\mu}{\\sigma} \\big)^2}\\\\ \n",
    "Here, \n",
    "\n",
    "µ is the mean\n",
    "σ is the standard deviation of the distribution\n",
    "x is the number"
   ]
  },
  {
   "cell_type": "code",
   "execution_count": null,
   "id": "aeace820-d117-4175-b564-ebf092d11741",
   "metadata": {},
   "outputs": [],
   "source": [
    "# We will use scipy.stats.norm.pdf() method to calculate the probability distribution for a number x."
   ]
  },
  {
   "cell_type": "code",
   "execution_count": null,
   "id": "17623a5d-4dda-4cdb-8e92-edeae3e931c1",
   "metadata": {},
   "outputs": [],
   "source": []
  },
  {
   "cell_type": "code",
   "execution_count": 4,
   "id": "0419eee1-19cf-4a3f-bb89-168e6783c917",
   "metadata": {},
   "outputs": [],
   "source": [
    "# Q4. What are the properties of Binomial distribution? Give two examples of events where binomial \n",
    "# distribution can be applied."
   ]
  },
  {
   "cell_type": "code",
   "execution_count": 5,
   "id": "2d156dfd-1424-43e2-8e4c-3ee97ab016ec",
   "metadata": {},
   "outputs": [],
   "source": [
    "# The properties of the binomial distribution are:\n",
    "# There are two possible outcomes: true or false, success or failure, yes or no.\n",
    "# There is 'n' number of independent trials or a fixed number of n times repeated trials.\n",
    "# The probability of success or failure remains the same for each trial.\n",
    "\n",
    "# example -  Tossing a Coin, Rolling a die\n",
    "\n",
    "# getting Head is remains the same in every trails(Tossing a Coin).\n",
    "# Gettig 6 is remains the same in every trails(Die rolling)."
   ]
  },
  {
   "cell_type": "code",
   "execution_count": null,
   "id": "7f786926-7f8a-4970-91fc-6af61bd570d0",
   "metadata": {},
   "outputs": [],
   "source": []
  },
  {
   "cell_type": "code",
   "execution_count": 6,
   "id": "f4aca0ec-c09b-42b6-974b-59893c4e2a3d",
   "metadata": {},
   "outputs": [],
   "source": [
    "# Q5. Generate a random sample of size 1000 from a binomial distribution with probability of success 0.4 \n",
    "# and plot a histogram of the results using matplotlib."
   ]
  },
  {
   "cell_type": "code",
   "execution_count": 10,
   "id": "a051fc97-518c-48bf-9188-b7235c7cb407",
   "metadata": {},
   "outputs": [
    {
     "data": {
      "image/png": "[encoded data removed]",
      "text/plain": [
       "<Figure size 640x480 with 1 Axes>"
      ]
     },
     "metadata": {},
     "output_type": "display_data"
    }
   ],
   "source": [
    "from scipy.stats import binom\n",
    "import matplotlib.pyplot as plt\n",
    "# setting the values\n",
    "# of n and p\n",
    "n = 1000\n",
    "p = 0.4\n",
    "# defining list of r values\n",
    "r_values = list(range(n + 1))\n",
    "# list of pmf values\n",
    "dist = [binom.pmf(r, n, p) for r in r_values ]\n",
    "# plotting the graph \n",
    "plt.bar(r_values, dist)\n",
    "plt.show()"
   ]
  },
  {
   "cell_type": "code",
   "execution_count": null,
   "id": "f0df86f4-8496-4dd5-81cf-180276bd44a0",
   "metadata": {},
   "outputs": [],
   "source": [
    "from scipy.stats import binom\n",
    "import matplotlib.pyplot as plt\n",
    "# setting the values\n",
    "# of n and p\n",
    "n = 1000\n",
    "p = 0.4\n",
    "# defining list of r values\n",
    "r_values = list(range(n + 1))\n",
    "# list of pmf values\n",
    "dist = [binom.pmf(r, n, p) for r in r_values ]\n",
    "# plotting the graph \n",
    "plt.hist(r_values, dist)\n",
    "plt.show()"
   ]
  },
  {
   "cell_type": "code",
   "execution_count": null,
   "id": "30afa862-5981-4032-b0f8-b02fe9e2831c",
   "metadata": {},
   "outputs": [],
   "source": []
  },
  {
   "cell_type": "code",
   "execution_count": 19,
   "id": "91c933c0-ef17-4711-928e-7fb600b453d1",
   "metadata": {},
   "outputs": [],
   "source": [
    "# Q6. Write a Python function to calculate the cumulative distribution function of a Poisson distribution \n",
    "# with given mean at a given point."
   ]
  },
  {
   "cell_type": "code",
   "execution_count": null,
   "id": "fb723fbf-3821-4209-ae20-465e3658b505",
   "metadata": {},
   "outputs": [],
   "source": [
    "The PMF (probability mass function) of a Poisson distribution is given by:\n",
    "\n",
    "p(k,λ)=λke−λk!\n",
    "where:\n",
    "\n",
    "λ is a real positive number given by λ=E(X)=μ\n",
    "k is the number of occurrences\n",
    "e=2.71828\n",
    "The Pr(X=k) can be read as: Poisson probability of k events in an interval."
   ]
  },
  {
   "cell_type": "code",
   "execution_count": null,
   "id": "7875f42b-9e9a-48d1-ac13-fc9d86702c72",
   "metadata": {},
   "outputs": [],
   "source": []
  },
  {
   "cell_type": "code",
   "execution_count": 20,
   "id": "b3cfc402-ac24-435a-8083-984529a813be",
   "metadata": {},
   "outputs": [],
   "source": [
    "# Q7. How Binomial distribution different from Poisson distribution?"
   ]
  },
  {
   "cell_type": "code",
   "execution_count": null,
   "id": "ba1c6d89-0ac9-49d1-9995-1d72801ddeb1",
   "metadata": {},
   "outputs": [],
   "source": [
    "# Binomial distribution describes the distribution of binary data from a finite sample. \n",
    "# Thus it gives the probability of getting r events out of n trials. \n",
    "\n",
    "# Poisson distribution describes the distribution of binary data from an infinite sample. \n",
    "# Thus it gives the probability of getting r events in a population.\n",
    "\n",
    "# Binomial distribution is one in which the probability of repeated number of trials are studied.\n",
    "# Poisson Distribution gives the count of independent events occur randomly with a given period of time.\n",
    "# Only two possible outcomes, i.e. success or failure."
   ]
  },
  {
   "cell_type": "code",
   "execution_count": null,
   "id": "6b66d7d0-9e1f-4eb4-85b8-7d1c9356495d",
   "metadata": {},
   "outputs": [],
   "source": []
  },
  {
   "cell_type": "code",
   "execution_count": 21,
   "id": "ab1d4326-6b15-4ba6-9d74-53dc431ce08e",
   "metadata": {},
   "outputs": [],
   "source": [
    "# Q8. Generate a random sample of size 1000 from a Poisson distribution with mean 5 and calculate the \n",
    "# sample mean and variance."
   ]
  },
  {
   "cell_type": "code",
   "execution_count": 2,
   "id": "2c40da11-9bf4-4635-a5cf-343714f8feea",
   "metadata": {},
   "outputs": [],
   "source": [
    "# In P.D, the variance and mean of the same distribution is same. So, variance = 5."
   ]
  },
  {
   "cell_type": "code",
   "execution_count": 3,
   "id": "e8d528fb-491d-427a-98d0-3b4941395d24",
   "metadata": {},
   "outputs": [
    {
     "data": {
      "image/png": "[encoded data removed]",
      "text/plain": [
       "<Figure size 640x480 with 1 Axes>"
      ]
     },
     "metadata": {},
     "output_type": "display_data"
    }
   ],
   "source": [
    "# import numpy\n",
    "import numpy as np\n",
    "import matplotlib.pyplot as plt\n",
    "  \n",
    "# Using poisson() method\n",
    "gfg = np.random.poisson(10, 1000)\n",
    "  \n",
    "count, bins, ignored = plt.hist(gfg, 14, density = True)\n",
    "plt.show()"
   ]
  },
  {
   "cell_type": "code",
   "execution_count": null,
   "id": "46d45a7b-a4e4-4b29-b176-78f7b3497121",
   "metadata": {},
   "outputs": [],
   "source": []
  },
  {
   "cell_type": "code",
   "execution_count": 4,
   "id": "069be1ef-2b67-44a5-8dba-ddbad94e7639",
   "metadata": {},
   "outputs": [],
   "source": [
    "# Q9. How mean and variance are related in Binomial distribution and Poisson distribution?"
   ]
  },
  {
   "cell_type": "code",
   "execution_count": null,
   "id": "1c79a9cb-8295-4ef9-b29c-d67630c07299",
   "metadata": {},
   "outputs": [],
   "source": [
    "# The mean of the binomial distribution is always equal to p, and the variance is always equal to pq/N.\n",
    "\n",
    "# The mean and the variance of the Poisson distribution are the same, which is equal to the average number of \n",
    "# successes that occur in the given interval of time.\n",
    "\n",
    "# The Binomial and Poisson distribution share the following similarities: \n",
    "# Both distributions can be used to model the number of occurrences of some event. \n",
    "# In both distributions, events are assumed to be independent."
   ]
  },
  {
   "cell_type": "code",
   "execution_count": null,
   "id": "b683e2f8-5169-45ef-87b8-75568194d9e3",
   "metadata": {},
   "outputs": [],
   "source": []
  },
  {
   "cell_type": "code",
   "execution_count": 5,
   "id": "f39eaa3b-6364-48fc-bda1-a9c9a989d871",
   "metadata": {},
   "outputs": [],
   "source": [
    "# Q10. In normal distribution with respect to mean position, where does the least frequent data appear?"
   ]
  },
  {
   "cell_type": "code",
   "execution_count": null,
   "id": "d8c01ca7-88d5-44c0-9625-8c0105a5bf86",
   "metadata": {},
   "outputs": [],
   "source": [
    "# Normal distributions have the following features: symmetric bell shape. mean and median are equal;\n",
    "# both located at the center of the distribution.\n",
    "\n",
    "# Generally, if the distribution of data is skewed to the left, the mean is less than the median,\n",
    "# which is often less than the mode. If the distribution of data is skewed to the right, \n",
    "# the mode is often less than the median, which is less than the mean."
   ]
  },
  {
   "cell_type": "code",
   "execution_count": null,
   "id": "adb2fb05-0a31-4cbc-a96c-488328f95d7c",
   "metadata": {},
   "outputs": [],
   "source": []
  },
  {
   "cell_type": "code",
   "execution_count": null,
   "id": "f663346c-dbbd-4d93-95dd-f583738f93a8",
   "metadata": {},
   "outputs": [],
   "source": []
  }
 ],
 "metadata": {
  "kernelspec": {
   "display_name": "Python 3 (ipykernel)",
   "language": "python",
   "name": "python3"
  },
  "language_info": {
   "codemirror_mode": {
    "name": "ipython",
    "version": 3
   },
   "file_extension": ".py",
   "mimetype": "text/x-python",
   "name": "python",
   "nbconvert_exporter": "python",
   "pygments_lexer": "ipython3",
   "version": "3.10.6"
  }
 },
 "nbformat": 4,
 "nbformat_minor": 5
}
